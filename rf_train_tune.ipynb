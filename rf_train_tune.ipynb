{
 "cells": [
  {
   "cell_type": "code",
   "execution_count": 19,
   "metadata": {},
   "outputs": [],
   "source": [
    "import ray\n",
    "from ray import tune\n",
    "from sklearn.ensemble import RandomForestClassifier\n",
    "from sklearn.model_selection import cross_val_score\n",
    "from sklearn.datasets import fetch_covtype\n",
    "import numpy as np"
   ]
  },
  {
   "cell_type": "code",
   "execution_count": 20,
   "metadata": {},
   "outputs": [
    {
     "name": "stderr",
     "output_type": "stream",
     "text": [
      "2024-05-10 19:31:41,819\tINFO worker.py:1567 -- Connecting to existing Ray cluster at address: 192.168.2.209:6379...\n",
      "2024-05-10 19:31:41,832\tINFO worker.py:1743 -- Connected to Ray cluster. View the dashboard at \u001b[1m\u001b[32mhttp://127.0.0.1:8265 \u001b[39m\u001b[22m\n"
     ]
    },
    {
     "data": {
      "application/vnd.jupyter.widget-view+json": {
       "model_id": "43d80a2806f04918a937010b3accb418",
       "version_major": 2,
       "version_minor": 0
      },
      "text/html": [
       "<div class=\"lm-Widget p-Widget lm-Panel p-Panel jp-Cell-outputWrapper\">\n",
       "    <div style=\"margin-left: 50px;display: flex;flex-direction: row;align-items: center\">\n",
       "        <div class=\"jp-RenderedHTMLCommon\" style=\"display: flex; flex-direction: row;\">\n",
       "  <svg viewBox=\"0 0 567 224\" fill=\"none\" xmlns=\"http://www.w3.org/2000/svg\" style=\"height: 3em;\">\n",
       "    <g clip-path=\"url(#clip0_4338_178347)\">\n",
       "        <path d=\"M341.29 165.561H355.29L330.13 129.051C345.63 123.991 354.21 112.051 354.21 94.2307C354.21 71.3707 338.72 58.1807 311.88 58.1807H271V165.561H283.27V131.661H311.8C314.25 131.661 316.71 131.501 319.01 131.351L341.25 165.561H341.29ZM283.29 119.851V70.0007H311.82C331.3 70.0007 342.34 78.2907 342.34 94.5507C342.34 111.271 331.34 119.861 311.82 119.861L283.29 119.851ZM451.4 138.411L463.4 165.561H476.74L428.74 58.1807H416L367.83 165.561H380.83L392.83 138.411H451.4ZM446.19 126.601H398L422 72.1407L446.24 126.601H446.19ZM526.11 128.741L566.91 58.1807H554.35L519.99 114.181L485.17 58.1807H472.44L514.01 129.181V165.541H526.13V128.741H526.11Z\" fill=\"var(--jp-ui-font-color0)\"/>\n",
       "        <path d=\"M82.35 104.44C84.0187 97.8827 87.8248 92.0678 93.1671 87.9146C98.5094 83.7614 105.083 81.5067 111.85 81.5067C118.617 81.5067 125.191 83.7614 130.533 87.9146C135.875 92.0678 139.681 97.8827 141.35 104.44H163.75C164.476 101.562 165.622 98.8057 167.15 96.2605L127.45 56.5605C121.071 60.3522 113.526 61.6823 106.235 60.3005C98.9443 58.9187 92.4094 54.9203 87.8602 49.0574C83.3109 43.1946 81.0609 35.8714 81.5332 28.4656C82.0056 21.0599 85.1679 14.0819 90.4252 8.8446C95.6824 3.60726 102.672 0.471508 110.08 0.0272655C117.487 -0.416977 124.802 1.86091 130.647 6.4324C136.493 11.0039 140.467 17.5539 141.821 24.8501C143.175 32.1463 141.816 39.6859 138 46.0505L177.69 85.7505C182.31 82.9877 187.58 81.4995 192.962 81.4375C198.345 81.3755 203.648 82.742 208.33 85.3976C213.012 88.0532 216.907 91.9029 219.616 96.5544C222.326 101.206 223.753 106.492 223.753 111.875C223.753 117.258 222.326 122.545 219.616 127.197C216.907 131.848 213.012 135.698 208.33 138.353C203.648 141.009 198.345 142.375 192.962 142.313C187.58 142.251 182.31 140.763 177.69 138L138 177.7C141.808 184.071 143.155 191.614 141.79 198.91C140.424 206.205 136.44 212.75 130.585 217.313C124.731 221.875 117.412 224.141 110.004 223.683C102.596 223.226 95.6103 220.077 90.3621 214.828C85.1139 209.58 81.9647 202.595 81.5072 195.187C81.0497 187.779 83.3154 180.459 87.878 174.605C92.4405 168.751 98.9853 164.766 106.281 163.401C113.576 162.035 121.119 163.383 127.49 167.19L167.19 127.49C165.664 124.941 164.518 122.182 163.79 119.3H141.39C139.721 125.858 135.915 131.673 130.573 135.826C125.231 139.98 118.657 142.234 111.89 142.234C105.123 142.234 98.5494 139.98 93.2071 135.826C87.8648 131.673 84.0587 125.858 82.39 119.3H60C58.1878 126.495 53.8086 132.78 47.6863 136.971C41.5641 141.163 34.1211 142.972 26.7579 142.059C19.3947 141.146 12.6191 137.574 7.70605 132.014C2.79302 126.454 0.0813599 119.29 0.0813599 111.87C0.0813599 104.451 2.79302 97.2871 7.70605 91.7272C12.6191 86.1673 19.3947 82.5947 26.7579 81.6817C34.1211 80.7686 41.5641 82.5781 47.6863 86.7696C53.8086 90.9611 58.1878 97.2456 60 104.44H82.35ZM100.86 204.32C103.407 206.868 106.759 208.453 110.345 208.806C113.93 209.159 117.527 208.258 120.522 206.256C123.517 204.254 125.725 201.276 126.771 197.828C127.816 194.38 127.633 190.677 126.253 187.349C124.874 184.021 122.383 181.274 119.205 179.577C116.027 177.88 112.359 177.337 108.826 178.042C105.293 178.746 102.113 180.654 99.8291 183.44C97.5451 186.226 96.2979 189.718 96.3 193.32C96.2985 195.364 96.7006 197.388 97.4831 199.275C98.2656 201.163 99.4132 202.877 100.86 204.32ZM204.32 122.88C206.868 120.333 208.453 116.981 208.806 113.396C209.159 109.811 208.258 106.214 206.256 103.219C204.254 100.223 201.275 98.0151 197.827 96.97C194.38 95.9249 190.676 96.1077 187.348 97.4873C184.02 98.8669 181.274 101.358 179.577 104.536C177.879 107.714 177.337 111.382 178.041 114.915C178.746 118.448 180.653 121.627 183.439 123.911C186.226 126.195 189.717 127.443 193.32 127.44C195.364 127.443 197.388 127.042 199.275 126.259C201.163 125.476 202.878 124.328 204.32 122.88ZM122.88 19.4205C120.333 16.8729 116.981 15.2876 113.395 14.9347C109.81 14.5817 106.213 15.483 103.218 17.4849C100.223 19.4868 98.0146 22.4654 96.9696 25.9131C95.9245 29.3608 96.1073 33.0642 97.4869 36.3922C98.8665 39.7202 101.358 42.4668 104.535 44.1639C107.713 45.861 111.381 46.4036 114.914 45.6992C118.447 44.9949 121.627 43.0871 123.911 40.301C126.195 37.515 127.442 34.0231 127.44 30.4205C127.44 28.3772 127.038 26.3539 126.255 24.4664C125.473 22.5788 124.326 20.8642 122.88 19.4205ZM19.42 100.86C16.8725 103.408 15.2872 106.76 14.9342 110.345C14.5813 113.93 15.4826 117.527 17.4844 120.522C19.4863 123.518 22.4649 125.726 25.9127 126.771C29.3604 127.816 33.0638 127.633 36.3918 126.254C39.7198 124.874 42.4664 122.383 44.1635 119.205C45.8606 116.027 46.4032 112.359 45.6988 108.826C44.9944 105.293 43.0866 102.114 40.3006 99.8296C37.5145 97.5455 34.0227 96.2983 30.42 96.3005C26.2938 96.3018 22.337 97.9421 19.42 100.86ZM100.86 100.86C98.3125 103.408 96.7272 106.76 96.3742 110.345C96.0213 113.93 96.9226 117.527 98.9244 120.522C100.926 123.518 103.905 125.726 107.353 126.771C110.8 127.816 114.504 127.633 117.832 126.254C121.16 124.874 123.906 122.383 125.604 119.205C127.301 116.027 127.843 112.359 127.139 108.826C126.434 105.293 124.527 102.114 121.741 99.8296C118.955 97.5455 115.463 96.2983 111.86 96.3005C109.817 96.299 107.793 96.701 105.905 97.4835C104.018 98.2661 102.303 99.4136 100.86 100.86Z\" fill=\"#00AEEF\"/>\n",
       "    </g>\n",
       "    <defs>\n",
       "        <clipPath id=\"clip0_4338_178347\">\n",
       "            <rect width=\"566.93\" height=\"223.75\" fill=\"white\"/>\n",
       "        </clipPath>\n",
       "    </defs>\n",
       "  </svg>\n",
       "</div>\n",
       "\n",
       "        <table class=\"jp-RenderedHTMLCommon\" style=\"border-collapse: collapse;color: var(--jp-ui-font-color1);font-size: var(--jp-ui-font-size1);\">\n",
       "    <tr>\n",
       "        <td style=\"text-align: left\"><b>Python version:</b></td>\n",
       "        <td style=\"text-align: left\"><b>3.8.10</b></td>\n",
       "    </tr>\n",
       "    <tr>\n",
       "        <td style=\"text-align: left\"><b>Ray version:</b></td>\n",
       "        <td style=\"text-align: left\"><b>2.10.0</b></td>\n",
       "    </tr>\n",
       "    <tr>\n",
       "    <td style=\"text-align: left\"><b>Dashboard:</b></td>\n",
       "    <td style=\"text-align: left\"><b><a href=\"http://127.0.0.1:8265\" target=\"_blank\">http://127.0.0.1:8265</a></b></td>\n",
       "</tr>\n",
       "\n",
       "</table>\n",
       "\n",
       "    </div>\n",
       "</div>\n"
      ],
      "text/plain": [
       "RayContext(dashboard_url='127.0.0.1:8265', python_version='3.8.10', ray_version='2.10.0', ray_commit='09abba26b5bf2707639bb637c208d062a47b46f6')"
      ]
     },
     "execution_count": 20,
     "metadata": {},
     "output_type": "execute_result"
    }
   ],
   "source": [
    "# Initialize Ray\n",
    "ray.init()"
   ]
  },
  {
   "cell_type": "code",
   "execution_count": 21,
   "metadata": {},
   "outputs": [],
   "source": [
    "covtype = fetch_covtype()\n",
    "X, y = covtype.data, covtype.target\n",
    "\n",
    "# select the first 4000 data points from the dataset\n",
    "X_ray_put=X[:40000]\n",
    "y_ray_put=y[:40000]\n",
    "\n",
    "def train_rf(config):\n",
    "    # Load dataset\n",
    "    # Initialize and train RandomForestClassifier\n",
    "    rf_classifier= RandomForestClassifier(**config)\n",
    "    scores = cross_val_score(rf_classifier, X_ray_put, y_ray_put , cv=5)\n",
    "   \n",
    "    # Compute mean accuracy\n",
    "    mean_accuracy = np.mean(scores)\n",
    "    return {\"mean_accuracy\": mean_accuracy}\n",
    "\n",
    "# Define search space\n",
    "search_space = {\n",
    "    \"max_depth\": tune.grid_search([10,50]),\n",
    "    \"n_estimators\": tune.grid_search([200,300]),\n",
    "    \"ccp_alpha\": tune.grid_search([0,0.2])\n",
    "}"
   ]
  },
  {
   "cell_type": "code",
   "execution_count": 25,
   "metadata": {},
   "outputs": [
    {
     "data": {
      "text/html": [
       "<div class=\"tuneStatus\">\n",
       "  <div style=\"display: flex;flex-direction: row\">\n",
       "    <div style=\"display: flex;flex-direction: column;\">\n",
       "      <h3>Tune Status</h3>\n",
       "      <table>\n",
       "<tbody>\n",
       "<tr><td>Current time:</td><td>2024-05-10 19:44:50</td></tr>\n",
       "<tr><td>Running for: </td><td>00:02:17.29        </td></tr>\n",
       "<tr><td>Memory:      </td><td>6.2/7.8 GiB        </td></tr>\n",
       "</tbody>\n",
       "</table>\n",
       "    </div>\n",
       "    <div class=\"vDivider\"></div>\n",
       "    <div class=\"systemInfo\">\n",
       "      <h3>System Info</h3>\n",
       "      Using FIFO scheduling algorithm.<br>Logical resource usage: 1.0/12 CPUs, 0/0 GPUs\n",
       "    </div>\n",
       "    \n",
       "  </div>\n",
       "  <div class=\"hDivider\"></div>\n",
       "  <div class=\"trialStatus\">\n",
       "    <h3>Trial Status</h3>\n",
       "    <table>\n",
       "<thead>\n",
       "<tr><th>Trial name          </th><th>status    </th><th>loc                </th><th style=\"text-align: right;\">  ccp_alpha</th><th style=\"text-align: right;\">  max_depth</th><th style=\"text-align: right;\">  n_estimators</th><th style=\"text-align: right;\">     acc</th><th style=\"text-align: right;\">  iter</th><th style=\"text-align: right;\">  total time (s)</th></tr>\n",
       "</thead>\n",
       "<tbody>\n",
       "<tr><td>train_rf_71b0f_00000</td><td>TERMINATED</td><td>192.168.2.136:60286</td><td style=\"text-align: right;\">        0  </td><td style=\"text-align: right;\">         10</td><td style=\"text-align: right;\">           200</td><td style=\"text-align: right;\">0.763725</td><td style=\"text-align: right;\">     1</td><td style=\"text-align: right;\">         25.4846</td></tr>\n",
       "<tr><td>train_rf_71b0f_00001</td><td>TERMINATED</td><td>192.168.2.122:57879</td><td style=\"text-align: right;\">        0.2</td><td style=\"text-align: right;\">         10</td><td style=\"text-align: right;\">           200</td><td style=\"text-align: right;\">0.54095 </td><td style=\"text-align: right;\">     1</td><td style=\"text-align: right;\">         25.0622</td></tr>\n",
       "<tr><td>train_rf_71b0f_00002</td><td>TERMINATED</td><td>192.168.2.122:57880</td><td style=\"text-align: right;\">        0  </td><td style=\"text-align: right;\">         50</td><td style=\"text-align: right;\">           200</td><td style=\"text-align: right;\">0.79645 </td><td style=\"text-align: right;\">     1</td><td style=\"text-align: right;\">         44.1916</td></tr>\n",
       "<tr><td>train_rf_71b0f_00003</td><td>TERMINATED</td><td>192.168.2.209:92490</td><td style=\"text-align: right;\">        0.2</td><td style=\"text-align: right;\">         50</td><td style=\"text-align: right;\">           200</td><td style=\"text-align: right;\">0.54095 </td><td style=\"text-align: right;\">     1</td><td style=\"text-align: right;\">        129.462 </td></tr>\n",
       "<tr><td>train_rf_71b0f_00004</td><td>TERMINATED</td><td>192.168.2.122:57881</td><td style=\"text-align: right;\">        0  </td><td style=\"text-align: right;\">         10</td><td style=\"text-align: right;\">           300</td><td style=\"text-align: right;\">0.7637  </td><td style=\"text-align: right;\">     1</td><td style=\"text-align: right;\">         38.6575</td></tr>\n",
       "<tr><td>train_rf_71b0f_00005</td><td>TERMINATED</td><td>192.168.2.209:92491</td><td style=\"text-align: right;\">        0.2</td><td style=\"text-align: right;\">         10</td><td style=\"text-align: right;\">           300</td><td style=\"text-align: right;\">0.54095 </td><td style=\"text-align: right;\">     1</td><td style=\"text-align: right;\">         68.0253</td></tr>\n",
       "<tr><td>train_rf_71b0f_00006</td><td>TERMINATED</td><td>192.168.2.136:60287</td><td style=\"text-align: right;\">        0  </td><td style=\"text-align: right;\">         50</td><td style=\"text-align: right;\">           300</td><td style=\"text-align: right;\">0.796975</td><td style=\"text-align: right;\">     1</td><td style=\"text-align: right;\">         65.6788</td></tr>\n",
       "<tr><td>train_rf_71b0f_00007</td><td>TERMINATED</td><td>192.168.2.136:60288</td><td style=\"text-align: right;\">        0.2</td><td style=\"text-align: right;\">         50</td><td style=\"text-align: right;\">           300</td><td style=\"text-align: right;\">0.54095 </td><td style=\"text-align: right;\">     1</td><td style=\"text-align: right;\">        111.778 </td></tr>\n",
       "</tbody>\n",
       "</table>\n",
       "  </div>\n",
       "</div>\n",
       "<style>\n",
       ".tuneStatus {\n",
       "  color: var(--jp-ui-font-color1);\n",
       "}\n",
       ".tuneStatus .systemInfo {\n",
       "  display: flex;\n",
       "  flex-direction: column;\n",
       "}\n",
       ".tuneStatus td {\n",
       "  white-space: nowrap;\n",
       "}\n",
       ".tuneStatus .trialStatus {\n",
       "  display: flex;\n",
       "  flex-direction: column;\n",
       "}\n",
       ".tuneStatus h3 {\n",
       "  font-weight: bold;\n",
       "}\n",
       ".tuneStatus .hDivider {\n",
       "  border-bottom-width: var(--jp-border-width);\n",
       "  border-bottom-color: var(--jp-border-color0);\n",
       "  border-bottom-style: solid;\n",
       "}\n",
       ".tuneStatus .vDivider {\n",
       "  border-left-width: var(--jp-border-width);\n",
       "  border-left-color: var(--jp-border-color0);\n",
       "  border-left-style: solid;\n",
       "  margin: 0.5em 1em 0.5em 1em;\n",
       "}\n",
       "</style>\n"
      ],
      "text/plain": [
       "<IPython.core.display.HTML object>"
      ]
     },
     "metadata": {},
     "output_type": "display_data"
    },
    {
     "name": "stdout",
     "output_type": "stream",
     "text": [
      "\u001b[33m(raylet)\u001b[0m Warning: The actor ImplicitFunc is very large (33 MiB). Check that its definition is not implicitly capturing a large array or other object in scope. Tip: use ray.put() to put large objects in the Ray object store.\n"
     ]
    },
    {
     "name": "stderr",
     "output_type": "stream",
     "text": [
      "2024-05-10 19:44:50,136\tWARNING experiment_state.py:205 -- Experiment state snapshotting has been triggered multiple times in the last 5.0 seconds. A snapshot is forced if `CheckpointConfig(num_to_keep)` is set, and a trial has checkpointed >= `num_to_keep` times since the last snapshot.\n",
      "You may want to consider increasing the `CheckpointConfig(num_to_keep)` or decreasing the frequency of saving checkpoints.\n",
      "You can suppress this error by setting the environment variable TUNE_WARN_EXCESSIVE_EXPERIMENT_CHECKPOINT_SYNC_THRESHOLD_S to a smaller value than the current threshold (5.0).\n",
      "2024-05-10 19:44:50,144\tINFO tune.py:1016 -- Wrote the latest version of all result files and experiment state to '/home/ubuntu/ray_results/train_rf_2024-05-10_19-42-32' in 0.0132s.\n",
      "2024-05-10 19:44:50,159\tINFO tune.py:1048 -- Total run time: 137.45 seconds (137.27 seconds for the tuning loop).\n"
     ]
    }
   ],
   "source": [
    "tuner = tune.Tuner(train_rf, param_space=search_space)  # ③\n",
    "results = tuner.fit()"
   ]
  },
  {
   "cell_type": "code",
   "execution_count": 28,
   "metadata": {},
   "outputs": [
    {
     "name": "stdout",
     "output_type": "stream",
     "text": [
      "Best Accuracy: 79.698 %\n",
      "{'max_depth': 50, 'n_estimators': 300, 'ccp_alpha': 0}\n"
     ]
    }
   ],
   "source": [
    "best_result = results.get_best_result(metric=\"mean_accuracy\", mode=\"max\")\n",
    "print(\"Best Accuracy:\", round(best_result.metrics[\"mean_accuracy\"]*100,3),\"%\")\n",
    "print(best_result.config)"
   ]
  },
  {
   "cell_type": "code",
   "execution_count": 24,
   "metadata": {},
   "outputs": [],
   "source": [
    "ray.shutdown()"
   ]
  },
  {
   "cell_type": "markdown",
   "metadata": {},
   "source": [
    "# default"
   ]
  },
  {
   "cell_type": "code",
   "execution_count": 40,
   "metadata": {},
   "outputs": [
    {
     "name": "stdout",
     "output_type": "stream",
     "text": [
      "Default parameters of RandomForestClassifier:\n",
      "bootstrap : True\n",
      "ccp_alpha : 0.0\n",
      "class_weight : None\n",
      "criterion : gini\n",
      "max_depth : None\n",
      "max_features : sqrt\n",
      "max_leaf_nodes : None\n",
      "max_samples : None\n",
      "min_impurity_decrease : 0.0\n",
      "min_samples_leaf : 1\n",
      "min_samples_split : 2\n",
      "min_weight_fraction_leaf : 0.0\n",
      "n_estimators : 100\n",
      "n_jobs : None\n",
      "oob_score : False\n",
      "random_state : None\n",
      "verbose : 0\n",
      "warm_start : False\n"
     ]
    }
   ],
   "source": [
    "from sklearn.ensemble import RandomForestClassifier\n",
    "# Get the default parameters of the RandomForestClassifier\n",
    "default_params = rf_default_classifier= RandomForestClassifier().get_params()\n",
    "\n",
    "# Print out the default parameters\n",
    "print(\"Default parameters of RandomForestClassifier:\")\n",
    "for param, value in default_params.items():\n",
    "    print(param, \":\", value)\n",
    "\n",
    "#max_depth : None\n",
    "#n_estimators : 100\n",
    "#ccp_alpha:0"
   ]
  },
  {
   "cell_type": "code",
   "execution_count": 43,
   "metadata": {},
   "outputs": [],
   "source": [
    "def train_default_rf(config):\n",
    "    # Load dataset\n",
    "    # Initialize and train RandomForestClassifier\n",
    "    rf_classifier= RandomForestClassifier(**config)\n",
    "    scores = cross_val_score(rf_classifier, X_ray_put, y_ray_put , cv=5)\n",
    "   \n",
    "    # Compute mean accuracy\n",
    "    mean_accuracy = np.mean(scores)\n",
    "    return {\"mean_accuracy\": mean_accuracy}\n",
    "\n",
    "\n",
    "#max_depth : None\n",
    "#n_estimators : 100\n",
    "#ccp_alpha:0\n",
    "\n",
    "# Define search space\n",
    "default_search_space = {\n",
    "    \"max_depth\": tune.grid_search([None]),\n",
    "    \"n_estimators\": tune.grid_search([100]),\n",
    "    \"ccp_alpha\": tune.grid_search([0])\n",
    "}"
   ]
  },
  {
   "cell_type": "code",
   "execution_count": 42,
   "metadata": {},
   "outputs": [
    {
     "data": {
      "text/html": [
       "<div class=\"tuneStatus\">\n",
       "  <div style=\"display: flex;flex-direction: row\">\n",
       "    <div style=\"display: flex;flex-direction: column;\">\n",
       "      <h3>Tune Status</h3>\n",
       "      <table>\n",
       "<tbody>\n",
       "<tr><td>Current time:</td><td>2024-05-10 20:10:53</td></tr>\n",
       "<tr><td>Running for: </td><td>00:00:24.23        </td></tr>\n",
       "<tr><td>Memory:      </td><td>7.0/7.8 GiB        </td></tr>\n",
       "</tbody>\n",
       "</table>\n",
       "    </div>\n",
       "    <div class=\"vDivider\"></div>\n",
       "    <div class=\"systemInfo\">\n",
       "      <h3>System Info</h3>\n",
       "      Using FIFO scheduling algorithm.<br>Logical resource usage: 1.0/12 CPUs, 0/0 GPUs\n",
       "    </div>\n",
       "    \n",
       "  </div>\n",
       "  <div class=\"hDivider\"></div>\n",
       "  <div class=\"trialStatus\">\n",
       "    <h3>Trial Status</h3>\n",
       "    <table>\n",
       "<thead>\n",
       "<tr><th>Trial name                  </th><th>status    </th><th>loc                </th><th style=\"text-align: right;\">  ccp_alpha</th><th>max_depth  </th><th style=\"text-align: right;\">  n_estimators</th><th style=\"text-align: right;\">     acc</th><th style=\"text-align: right;\">  iter</th><th style=\"text-align: right;\">  total time (s)</th></tr>\n",
       "</thead>\n",
       "<tbody>\n",
       "<tr><td>train_default_rf_58bd2_00000</td><td>TERMINATED</td><td>192.168.2.136:61125</td><td style=\"text-align: right;\">          0</td><td>           </td><td style=\"text-align: right;\">           100</td><td style=\"text-align: right;\">0.793725</td><td style=\"text-align: right;\">     1</td><td style=\"text-align: right;\">         21.9071</td></tr>\n",
       "</tbody>\n",
       "</table>\n",
       "  </div>\n",
       "</div>\n",
       "<style>\n",
       ".tuneStatus {\n",
       "  color: var(--jp-ui-font-color1);\n",
       "}\n",
       ".tuneStatus .systemInfo {\n",
       "  display: flex;\n",
       "  flex-direction: column;\n",
       "}\n",
       ".tuneStatus td {\n",
       "  white-space: nowrap;\n",
       "}\n",
       ".tuneStatus .trialStatus {\n",
       "  display: flex;\n",
       "  flex-direction: column;\n",
       "}\n",
       ".tuneStatus h3 {\n",
       "  font-weight: bold;\n",
       "}\n",
       ".tuneStatus .hDivider {\n",
       "  border-bottom-width: var(--jp-border-width);\n",
       "  border-bottom-color: var(--jp-border-color0);\n",
       "  border-bottom-style: solid;\n",
       "}\n",
       ".tuneStatus .vDivider {\n",
       "  border-left-width: var(--jp-border-width);\n",
       "  border-left-color: var(--jp-border-color0);\n",
       "  border-left-style: solid;\n",
       "  margin: 0.5em 1em 0.5em 1em;\n",
       "}\n",
       "</style>\n"
      ],
      "text/plain": [
       "<IPython.core.display.HTML object>"
      ]
     },
     "metadata": {},
     "output_type": "display_data"
    },
    {
     "name": "stderr",
     "output_type": "stream",
     "text": [
      "2024-05-10 20:10:53,215\tWARNING experiment_state.py:205 -- Experiment state snapshotting has been triggered multiple times in the last 5.0 seconds. A snapshot is forced if `CheckpointConfig(num_to_keep)` is set, and a trial has checkpointed >= `num_to_keep` times since the last snapshot.\n",
      "You may want to consider increasing the `CheckpointConfig(num_to_keep)` or decreasing the frequency of saving checkpoints.\n",
      "You can suppress this error by setting the environment variable TUNE_WARN_EXCESSIVE_EXPERIMENT_CHECKPOINT_SYNC_THRESHOLD_S to a smaller value than the current threshold (5.0).\n",
      "2024-05-10 20:10:53,217\tINFO tune.py:1016 -- Wrote the latest version of all result files and experiment state to '/home/ubuntu/ray_results/train_default_rf_2024-05-10_20-10-28' in 0.0068s.\n",
      "2024-05-10 20:10:53,224\tINFO tune.py:1048 -- Total run time: 24.39 seconds (24.23 seconds for the tuning loop).\n"
     ]
    }
   ],
   "source": [
    "tuner = tune.Tuner(train_default_rf, param_space=default_search_space)  # ③\n",
    "default_results = tuner.fit()"
   ]
  },
  {
   "cell_type": "code",
   "execution_count": 44,
   "metadata": {},
   "outputs": [
    {
     "name": "stdout",
     "output_type": "stream",
     "text": [
      "Best Accuracy: 79.372 %\n",
      "{'max_depth': None, 'n_estimators': 100, 'ccp_alpha': 0}\n"
     ]
    }
   ],
   "source": [
    "best_result = default_results.get_best_result(metric=\"mean_accuracy\", mode=\"max\")\n",
    "print(\"Best Accuracy:\", round(best_result.metrics[\"mean_accuracy\"]*100,3),\"%\")\n",
    "print(best_result.config)"
   ]
  }
 ],
 "metadata": {
  "kernelspec": {
   "display_name": "Python 3",
   "language": "python",
   "name": "python3"
  },
  "language_info": {
   "codemirror_mode": {
    "name": "ipython",
    "version": 3
   },
   "file_extension": ".py",
   "mimetype": "text/x-python",
   "name": "python",
   "nbconvert_exporter": "python",
   "pygments_lexer": "ipython3",
   "version": "3.8.10"
  }
 },
 "nbformat": 4,
 "nbformat_minor": 2
}
